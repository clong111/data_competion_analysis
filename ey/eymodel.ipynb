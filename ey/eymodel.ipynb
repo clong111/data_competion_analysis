{
  "nbformat": 4,
  "nbformat_minor": 0,
  "metadata": {
    "colab": {
      "name": "count5.ipynb",
      "version": "0.3.2",
      "provenance": []
    },
    "kernelspec": {
      "name": "python3",
      "display_name": "Python 3"
    },
    "accelerator": "GPU"
  },
  "cells": [
    {
      "cell_type": "code",
      "metadata": {
        "id": "VDXKdXpGmw91",
        "colab_type": "code",
        "colab": {}
      },
      "source": [
        "import numpy as np\n",
        "import pandas as pd\n",
        "import matplotlib.pyplot as plt\n",
        "from xgboost import plot_importance"
      ],
      "execution_count": 0,
      "outputs": []
    },
    {
      "cell_type": "code",
      "metadata": {
        "id": "ExMNtB-yIxnu",
        "colab_type": "code",
        "colab": {}
      },
      "source": [
        "#边界，中心\n",
        "num=(1e-5)\n",
        "xmin=3750901.5068*num\n",
        "xmax=3770901.5068*num\n",
        "ymin=-19268905.6133*num\n",
        "ymax=-19208905.6133*num\n",
        "xcenter=(xmin+xmax)/2\n",
        "ycenter=(ymin+ymax)/2"
      ],
      "execution_count": 0,
      "outputs": []
    },
    {
      "cell_type": "code",
      "metadata": {
        "id": "Qb1KwWtT2ItX",
        "colab_type": "code",
        "outputId": "60824684-4cc6-4d6a-ff7c-f62aed60bfa7",
        "colab": {
          "base_uri": "https://localhost:8080/",
          "height": 34
        }
      },
      "source": [
        "# 确定过采样的数据条数\n",
        "dy=data[data['target']==1]\n",
        "k=len(data)-len(dy)*3"
      ],
      "execution_count": 0,
      "outputs": [
        {
          "output_type": "execute_result",
          "data": {
            "text/plain": [
              "24312"
            ]
          },
          "metadata": {
            "tags": []
          },
          "execution_count": 8
        }
      ]
    },
    {
      "cell_type": "code",
      "metadata": {
        "id": "GtkL_kNGVtgP",
        "colab_type": "code",
        "colab": {}
      },
      "source": [
        "# 读入训练数据\n",
        "data=pd.read_csv('train_count5.csv')"
      ],
      "execution_count": 0,
      "outputs": []
    },
    {
      "cell_type": "code",
      "metadata": {
        "id": "MSz-6Tmim8py",
        "colab_type": "code",
        "colab": {}
      },
      "source": [
        "dy=data[data['target']==1]\n",
        "#过采样\n",
        "dy1=data[data['target']==1]\n",
        "dy2=dy1.sample(n=k,axis=0)\n",
        "dn=data[data['target']!=1]\n",
        "# dn=dn.iloc[:dy.shape[0],:]\n",
        "dyn=pd.concat([dy,dn,dy1,dy2],axis=0)\n",
        "\n",
        "#训练数据\n",
        "dyn_data=dyn.drop(['Unnamed: 0','hashid','endx','endy','targetx','targety','target'],axis=1).values\n",
        "\n",
        "#各种目标\n",
        "dyn_endx=dyn['endx'].values\n",
        "dyn_endy=dyn['endy'].values\n",
        "dyn_targetx=dyn['targetx'].values\n",
        "dyn_targety=dyn['targety'].values\n",
        "dyn_target=dyn['target'].values"
      ],
      "execution_count": 0,
      "outputs": []
    },
    {
      "cell_type": "code",
      "metadata": {
        "id": "Fa_ge5o-nYCQ",
        "colab_type": "code",
        "outputId": "8c1c26af-2791-4794-d418-522fcaa79835",
        "colab": {
          "base_uri": "https://localhost:8080/",
          "height": 88
        }
      },
      "source": [
        "#xgboost最佳参数\n",
        "import xgboost as xgb\n",
        "ps={}\n",
        "ps['gamma']=[0.05,0.1,0.5]\n",
        "ps['max_depth']=[10,15,20]\n",
        "ps['learning_rate']=[0.05,0.1,0.3]\n",
        "ps['objective']=['binary:logistic']\n",
        "ps['min_child_weight']=[0.5,1,5]\n",
        "plst = list(ps.items())\n",
        "num_rounds = 2000\n",
        "\n",
        "#筛选最佳超参数\n",
        "from sklearn.model_selection import GridSearchCV\n",
        "xgbrg=xgb.XGBClassifier()\n",
        "\n",
        "m_rx=GridSearchCV(xgbrg,ps)\n",
        "#由于数据过多，gridsearch吃不消，选取部分数据来检查最佳参数\n",
        "gindex=np.random.randint(len(dyn),size=4000)\n",
        "sample=dyn_data[gindex,:]\n",
        "sample_targetx=dyn_target[gindex]\n",
        "m_rx.fit(sample,sample_targetx)\n",
        "print('rx_best_params: ',m_rx.best_params_)\n"
      ],
      "execution_count": 0,
      "outputs": [
        {
          "output_type": "stream",
          "text": [
            "/usr/local/lib/python3.6/dist-packages/sklearn/model_selection/_split.py:2053: FutureWarning: You should specify a value for 'cv' instead of relying on the default value. The default value will change from 3 to 5 in version 0.22.\n",
            "  warnings.warn(CV_WARNING, FutureWarning)\n"
          ],
          "name": "stderr"
        },
        {
          "output_type": "stream",
          "text": [
            "rx_best_params:  {'gamma': 0.05, 'learning_rate': 0.3, 'max_depth': 10, 'min_child_weight': 0.5, 'objective': 'binary:logistic'}\n"
          ],
          "name": "stdout"
        }
      ]
    },
    {
      "cell_type": "code",
      "metadata": {
        "id": "3626K-pC8g2-",
        "colab_type": "code",
        "outputId": "4f683367-bcb6-45df-b00e-72e3fa7f0fbd",
        "colab": {
          "base_uri": "https://localhost:8080/",
          "height": 51
        }
      },
      "source": [
        "\n",
        "#训练集，测试集划分\n",
        "from sklearn.model_selection import train_test_split\n",
        "train_rx,test_rx,train_targetx,test_targetx=train_test_split(dyn_data,dyn_target,test_size=0.3)\n",
        "\n",
        "#用xgboost最优参数预测\n",
        "import xgboost as xgb\n",
        "xgb_rx=xgb.XGBClassifier(gamma=0.05,learning_rate=0.05,max_depth= 15,\n",
        "                        min_child_weight= 0.5,n_estimators=300,objective= 'binary:logistic')\n",
        "xgb_rx.fit(train_rx,train_targetx)\n",
        "predict_rx=xgb_rx.predict(test_rx)\n",
        "\n",
        "\n",
        "from sklearn.metrics import precision_score,roc_auc_score\n",
        "\n",
        "auc_score = roc_auc_score(test_targetx,predict_rx)\n",
        "pre_score = precision_score(test_targetx,predict_rx)\n",
        "\n",
        "print(\"xgb_auc_score:\",auc_score)\n",
        "print(\"xgb_pre_score:\",pre_score)"
      ],
      "execution_count": 0,
      "outputs": [
        {
          "output_type": "stream",
          "text": [
            "xgb_auc_score: 0.9704279024925158\n",
            "xgb_pre_score: 0.9577592275973046\n"
          ],
          "name": "stdout"
        }
      ]
    },
    {
      "cell_type": "code",
      "metadata": {
        "id": "OqDh5v9K_O5Y",
        "colab_type": "code",
        "colab": {}
      },
      "source": [
        "test=pd.read_csv('test_count5.csv')\n",
        "test.drop(['Unnamed: 0','Unnamed: 0.1','hashid'],inplace=True,axis=1)\n",
        "test_data=test.values"
      ],
      "execution_count": 0,
      "outputs": []
    },
    {
      "cell_type": "code",
      "metadata": {
        "id": "Y60slg6z9ra3",
        "colab_type": "code",
        "colab": {}
      },
      "source": [
        "# 训练数据集，预测测试集\n",
        "import xgboost as xgb\n",
        "xgb_rx=xgb.XGBClassifier(gamma=0.05,learning_rate=0.05,max_depth= 15,\n",
        "                        min_child_weight= 0.5,n_estimators=300,objective= 'binary:logistic')\n",
        "\n",
        "xgb_rx.fit(dyn_data,dyn_target)\n",
        "\n",
        "p_rx2=xgb_rx.predict(test_data)\n"
      ],
      "execution_count": 0,
      "outputs": []
    },
    {
      "cell_type": "code",
      "metadata": {
        "id": "MBv4kaGk_-xx",
        "colab_type": "code",
        "colab": {}
      },
      "source": [
        "# 生成预测结果\n",
        "test=pd.read_csv('test_count5.csv')\n",
        "test['target']=p_rx2\n",
        "\n",
        "result=test[['hashid','target']]\n",
        "\n",
        "test_1trace=pd.read_csv('test_1trace.csv')\n",
        "\n",
        "result1=result.rename(columns={'hashid':'id'})\n",
        "test_1trace.rename(columns={'hashid':'id'},inplace=True)\n",
        "test_1trace['target']=0\n",
        "#test专用数列\n",
        "l=['id','target']\n",
        "r=result1[l]\n",
        "t=test_1trace[l]\n",
        "result1p=pd.concat([r,t])\n",
        "\n",
        "result1p.to_csv('t5_os_estim.csv')"
      ],
      "execution_count": 0,
      "outputs": []
    }
  ]
}