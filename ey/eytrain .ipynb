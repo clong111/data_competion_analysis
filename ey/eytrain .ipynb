{
  "nbformat": 4,
  "nbformat_minor": 0,
  "metadata": {
    "colab": {
      "name": "eytrain.ipynb",
      "version": "0.3.2",
      "provenance": []
    },
    "language_info": {
      "codemirror_mode": {
        "name": "ipython",
        "version": 3
      },
      "file_extension": ".py",
      "mimetype": "text/x-python",
      "name": "python",
      "nbconvert_exporter": "python",
      "pygments_lexer": "ipython3",
      "version": "3.6.5"
    },
    "kernelspec": {
      "display_name": "Python 3",
      "language": "python",
      "name": "python3"
    }
  },
  "cells": [
    {
      "cell_type": "code",
      "metadata": {
        "id": "Z0biZ-uBFkDj",
        "colab_type": "code",
        "colab": {}
      },
      "source": [
        "import pandas as pd\n",
        "import numpy as np\n",
        "import sklearn \n",
        "import matplotlib.pyplot as plt"
      ],
      "execution_count": 0,
      "outputs": []
    },
    {
      "cell_type": "code",
      "metadata": {
        "id": "YcEBi7M8FkDp",
        "colab_type": "code",
        "colab": {}
      },
      "source": [
        "data=pd.read_csv('E:\\data\\eydata\\data_train.csv')"
      ],
      "execution_count": 0,
      "outputs": []
    },
    {
      "cell_type": "code",
      "metadata": {
        "id": "nNGXHYLeFkDt",
        "colab_type": "code",
        "colab": {}
      },
      "source": [
        "#删除第一列\n",
        "data.drop(['Unnamed: 0'],inplace=True,axis=1)"
      ],
      "execution_count": 0,
      "outputs": []
    },
    {
      "cell_type": "code",
      "metadata": {
        "id": "D4UGjBGpFkDw",
        "colab_type": "code",
        "colab": {}
      },
      "source": [
        "#时间戳转换\n",
        "data.loc[:,'time_entry']=pd.to_datetime(data['time_entry'])\n",
        "data.loc[:,'time_exit']=pd.to_datetime(data['time_exit'])"
      ],
      "execution_count": 0,
      "outputs": []
    },
    {
      "cell_type": "code",
      "metadata": {
        "id": "yLKz9rmCFkD5",
        "colab_type": "code",
        "colab": {}
      },
      "source": [
        "#坐标缩放\n",
        "data['x_entry']=data['x_entry']*(1e-5)\n",
        "data['y_entry']=data['y_entry']*(1e-5)\n",
        "data['x_exit']=data['x_exit']*(1e-5)\n",
        "data['y_exit']=data['y_exit']*(1e-5)"
      ],
      "execution_count": 0,
      "outputs": []
    },
    {
      "cell_type": "code",
      "metadata": {
        "id": "zTlQgrVaFkD-",
        "colab_type": "code",
        "colab": {}
      },
      "source": [
        "#f1x将设备终点x坐标提出\n",
        "def f1x(df):\n",
        "    return df.iloc[-1,9]\n",
        "#f1y将设备终点y坐标提出\n",
        "def f1y(df):\n",
        "    return df.iloc[-1,10]\n",
        "data_fx=data.groupby('hash').apply(f1x).to_frame()\n",
        "data_fx.columns=['endx']\n",
        "data_fy=data.groupby('hash').apply(f1y).to_frame()\n",
        "data_fy.columns=['endy']"
      ],
      "execution_count": 0,
      "outputs": []
    },
    {
      "cell_type": "code",
      "metadata": {
        "id": "hAKooYCtFkEC",
        "colab_type": "code",
        "colab": {}
      },
      "source": [
        "data1=pd.merge(data,data_fx,on='hash')"
      ],
      "execution_count": 0,
      "outputs": []
    },
    {
      "cell_type": "code",
      "metadata": {
        "id": "EO16gwdaFkEG",
        "colab_type": "code",
        "colab": {}
      },
      "source": [
        "data2=pd.merge(data1,data_fy,on='hash')"
      ],
      "execution_count": 0,
      "outputs": []
    },
    {
      "cell_type": "code",
      "metadata": {
        "id": "BKPO1IVKFkEL",
        "colab_type": "code",
        "colab": {}
      },
      "source": [
        "#f2确定终点是否在区域内\n",
        "def f2x(x):\n",
        "    return 1 if (x>=3750901.5068*(1e-5) and x<=3770901.5068*(1e-5)) else 0\n",
        "def f2y(y):\n",
        "    return 1 if (y>=-19268905.6133*(1e-5) and y<=-19208905.6133*(1e-5)) else 0\n",
        "data2['targetx']=data2.endx.apply(f2x)\n",
        "data2['targety']=data2.endy.apply(f2y)\n",
        "data2['target']=data2.targetx*data2.targety"
      ],
      "execution_count": 0,
      "outputs": []
    },
    {
      "cell_type": "code",
      "metadata": {
        "id": "EmyLT_3zFkER",
        "colab_type": "code",
        "colab": {}
      },
      "source": [
        "#f3x将设备最后起点x坐标提出\n",
        "def f3x(df):\n",
        "    return df.iloc[-1,7]\n",
        "#f1y将设备最后起点y坐标提出\n",
        "def f3y(df):\n",
        "    return df.iloc[-1,8]\n",
        "data_px=data.groupby('hash').apply(f3x).to_frame()\n",
        "data_px.columns=['prex']\n",
        "data_py=data.groupby('hash').apply(f3y).to_frame()\n",
        "data_py.columns=['prey']"
      ],
      "execution_count": 0,
      "outputs": []
    },
    {
      "cell_type": "code",
      "metadata": {
        "id": "otlo52spFkEe",
        "colab_type": "code",
        "colab": {}
      },
      "source": [
        "#f4eentry将设备最后起点时间提出\n",
        "def f4entry(df):\n",
        "    return df.iloc[-1,2]\n",
        "#f1y将设备最后起点y坐标提出\n",
        "def f4end(df):\n",
        "    return df.iloc[-1,3]\n",
        "data_pt=data.groupby('hash').apply(f4entry).to_frame()\n",
        "data_pt.columns=['time_pre']\n",
        "data_ft=data.groupby('hash').apply(f4end).to_frame()\n",
        "data_ft.columns=['time_end']"
      ],
      "execution_count": 0,
      "outputs": []
    },
    {
      "cell_type": "code",
      "metadata": {
        "id": "yKJ7GqWiFkEm",
        "colab_type": "code",
        "colab": {}
      },
      "source": [
        "data2.drop(['vmax','vmin','vmean'],inplace=True,axis=1)"
      ],
      "execution_count": 0,
      "outputs": []
    },
    {
      "cell_type": "code",
      "metadata": {
        "id": "zbYkv3S3FkEp",
        "colab_type": "code",
        "colab": {}
      },
      "source": [
        "#之前忘记处理，因此在data2的基础上处理\n",
        "data2_0=pd.merge(data2,data_pt,on='hash')\n",
        "data2_1=pd.merge(data2_0,data_ft,on='hash')"
      ],
      "execution_count": 0,
      "outputs": []
    },
    {
      "cell_type": "code",
      "metadata": {
        "id": "VT2e8w4qFkEt",
        "colab_type": "code",
        "colab": {}
      },
      "source": [
        "data3=pd.merge(data2_1,data_px,on='hash')\n",
        "data4=pd.merge(data3,data_py,on='hash')"
      ],
      "execution_count": 0,
      "outputs": []
    },
    {
      "cell_type": "code",
      "metadata": {
        "id": "Vxgrf0-yFkEw",
        "colab_type": "code",
        "colab": {}
      },
      "source": [
        "#所有最后起点\n",
        "x3=data4['prex'].values\n",
        "y3=data4['prey'].values"
      ],
      "execution_count": 0,
      "outputs": []
    },
    {
      "cell_type": "code",
      "metadata": {
        "id": "9y8qWJzCFkEz",
        "colab_type": "code",
        "colab": {}
      },
      "source": [
        "#边界，中心\n",
        "xmin=3750901.5068*(1e-5)\n",
        "xmax=3770901.5068*(1e-5)\n",
        "ymin=-19268905.6133*(1e-5)\n",
        "ymax=-19208905.6133*(1e-5)\n",
        "xcenter=(xmin+xmax)/2\n",
        "ycenter=(ymin+ymax)/2"
      ],
      "execution_count": 0,
      "outputs": []
    },
    {
      "cell_type": "code",
      "metadata": {
        "id": "g7z-Vzo1FkFT",
        "colab_type": "code",
        "colab": {}
      },
      "source": [
        "# #最小的记录的条数为1\n",
        "# data2.groupby('hash')['hash'].count().min()\n",
        "#将记录条数为1的提取出来做特殊处理，即对于只有pre和end的记录，只用pre的信息来预测end\n",
        "data_count=data4.groupby('hash')['hash'].count().to_frame()\n",
        "data_count.columns=['counts']\n",
        "data5=pd.merge(data4,data_count,on='hash')"
      ],
      "execution_count": 0,
      "outputs": []
    },
    {
      "cell_type": "code",
      "metadata": {
        "id": "HZVK84QpFkFY",
        "colab_type": "code",
        "colab": {}
      },
      "source": [
        "#entry到exit的时间间隔\n",
        "data5['time_entry2exit']=(data5.time_exit-data5.time_entry).dt.total_seconds()"
      ],
      "execution_count": 0,
      "outputs": []
    },
    {
      "cell_type": "code",
      "metadata": {
        "id": "Q3o1QIzNFkFb",
        "colab_type": "code",
        "colab": {}
      },
      "source": [
        "#entry到pre的时间间隔\n",
        "data5['time_entry2pre']=(data5['time_pre']-data5['time_entry']).dt.total_seconds()"
      ],
      "execution_count": 0,
      "outputs": []
    },
    {
      "cell_type": "code",
      "metadata": {
        "id": "kNKufHwfFkFf",
        "colab_type": "code",
        "colab": {}
      },
      "source": [
        "#exit时距离pre的时间间隔\n",
        "data5['time_exit2pre']=(data5['time_pre']-data5['time_exit']).dt.total_seconds()"
      ],
      "execution_count": 0,
      "outputs": []
    },
    {
      "cell_type": "code",
      "metadata": {
        "id": "B-zjfqhAFkFj",
        "colab_type": "code",
        "colab": {}
      },
      "source": [
        "#exit时距离end的时间间隔,用于计算时间系数1\n",
        "data5['time_exit2end']=(data5['time_end']-data5['time_exit']).dt.total_seconds()\n",
        "#时间系数1，exit距离终点时间越近值越大，可信度越高\n",
        "mintime=pd.to_datetime('00:00:00')\n",
        "data5['t1']=1-data5['time_exit2end']/(data5['time_end']-mintime).dt.total_seconds()"
      ],
      "execution_count": 0,
      "outputs": []
    },
    {
      "cell_type": "code",
      "metadata": {
        "id": "13vB0OSgFkFp",
        "colab_type": "code",
        "colab": {}
      },
      "source": [
        "#pre到end的时间间隔，用于计算时间系数2\n",
        "data5['time_pre2end']=(data5['time_end']-data5['time_pre']).dt.total_seconds()\n",
        "#时间系数2，pre距离终点时间越近越大，可信度越高\n",
        "mintime=pd.to_datetime('00:00:00')\n",
        "data5['t2']=1-data5['time_pre2end']/(data5['time_end']-mintime).dt.total_seconds()"
      ],
      "execution_count": 0,
      "outputs": []
    },
    {
      "cell_type": "code",
      "metadata": {
        "id": "YWsej3L4FkFu",
        "colab_type": "code",
        "outputId": "a86ebf50-4855-4191-b42b-0fdbcc9f9eb9",
        "colab": {}
      },
      "source": [
        "#继续提取一条轨迹的记录\n",
        "#将只有一条轨迹的记录提出\n",
        "d1=data5[data5['counts']==1]\n",
        "data_1trace=d1[['trajectory_id','time_pre2end','prex','prey','endx','endy','targetx','targety','target']]\n",
        "data_1trace['target_prex']=data5['prex'].apply(f2x)\n",
        "data_1trace['target_prey']=data5['prey'].apply(f2y)\n",
        "data_1trace.rename(columns={'trajectory_id':'hashid'},inplace=True)\n",
        "data_1trace=data_1trace[['hashid','time_pre2end','prex','prey','target_prex','target_prey','endx','endy','targetx','targety','target']]\n",
        "data_1trace.to_csv('E:/data/eydata/train_1trace.csv')"
      ],
      "execution_count": 0,
      "outputs": [
        {
          "output_type": "stream",
          "text": [
            "D:\\Anaconda3\\lib\\site-packages\\ipykernel_launcher.py:5: SettingWithCopyWarning: \n",
            "A value is trying to be set on a copy of a slice from a DataFrame.\n",
            "Try using .loc[row_indexer,col_indexer] = value instead\n",
            "\n",
            "See the caveats in the documentation: http://pandas.pydata.org/pandas-docs/stable/indexing.html#indexing-view-versus-copy\n",
            "  \"\"\"\n",
            "D:\\Anaconda3\\lib\\site-packages\\ipykernel_launcher.py:6: SettingWithCopyWarning: \n",
            "A value is trying to be set on a copy of a slice from a DataFrame.\n",
            "Try using .loc[row_indexer,col_indexer] = value instead\n",
            "\n",
            "See the caveats in the documentation: http://pandas.pydata.org/pandas-docs/stable/indexing.html#indexing-view-versus-copy\n",
            "  \n",
            "D:\\Anaconda3\\lib\\site-packages\\pandas\\core\\frame.py:3781: SettingWithCopyWarning: \n",
            "A value is trying to be set on a copy of a slice from a DataFrame\n",
            "\n",
            "See the caveats in the documentation: http://pandas.pydata.org/pandas-docs/stable/indexing.html#indexing-view-versus-copy\n",
            "  return super(DataFrame, self).rename(**kwargs)\n"
          ],
          "name": "stderr"
        }
      ]
    },
    {
      "cell_type": "code",
      "metadata": {
        "id": "tTMtaQNmFkF6",
        "colab_type": "code",
        "colab": {}
      },
      "source": [
        "#entry到exit这段位移的平均速度\n",
        "data5['vx_entry2exit']=(data5['x_exit']-data5['x_entry'])/data5['time_entry2exit']\n",
        "data5['vy_entry2exit']=(data5['y_exit']-data5['y_entry'])/data5['time_entry2exit']"
      ],
      "execution_count": 0,
      "outputs": []
    },
    {
      "cell_type": "code",
      "metadata": {
        "id": "l71JRWaoFkGB",
        "colab_type": "code",
        "colab": {}
      },
      "source": [
        "#exit到pre的平均速度\n",
        "data5['vx_exit2pre']=(data5['prex']-data5['x_exit'])/(data5['time_exit2pre'])\n",
        "data5['vy_exit2pre']=(data5['prey']-data5['y_exit'])/(data5['time_exit2pre'])"
      ],
      "execution_count": 0,
      "outputs": []
    },
    {
      "cell_type": "code",
      "metadata": {
        "id": "j-KasUMDFkGF",
        "colab_type": "code",
        "colab": {}
      },
      "source": [
        "#因为当entry到exit没有动，时间为0时计算得到的速度会无限大，因此统统修改为0\n",
        "data5.fillna(0,inplace=True)\n",
        "data5.replace(float('inf'),0,inplace=True)\n",
        "data5.replace(float('-inf'),0,inplace=True)"
      ],
      "execution_count": 0,
      "outputs": []
    },
    {
      "cell_type": "code",
      "metadata": {
        "id": "8e1uANYqFkGM",
        "colab_type": "code",
        "colab": {}
      },
      "source": [
        "#entry到pre的平均速度\n",
        "data5['vx_entry2pre']=(data5['prex']-data5['x_entry'])/(data5['time_entry2pre'])\n",
        "data5['vy_entry2pre']=(data5['prex']-data5['x_entry'])/(data5['time_entry2pre'])"
      ],
      "execution_count": 0,
      "outputs": []
    },
    {
      "cell_type": "code",
      "metadata": {
        "id": "Zu4hdRptFkGR",
        "colab_type": "code",
        "colab": {}
      },
      "source": [
        "#当entry即为pre时，时间为0，速度无限大，之前已经将最后一个记录提出，此时直接将该行删除即可\n",
        "data5.dropna(axis=0,inplace=True)"
      ],
      "execution_count": 0,
      "outputs": []
    },
    {
      "cell_type": "code",
      "metadata": {
        "id": "U1Z_-axQFkGV",
        "colab_type": "code",
        "colab": {}
      },
      "source": [
        "#est_x代表用不同速度从pre到end的预计位置\n",
        "data5['est_x_entry2exit']=data5['time_pre2end']*data5['vx_entry2exit']+data5['prex']\n",
        "data5['est_y_entry2exit']=data5['time_pre2end']*data5['vy_entry2exit']+data5['prey']\n",
        "#xcof位置系数，预计位置距离center越近，可能性越高\n",
        "data5['xcof_entry2exit']=1-abs(data5['est_x_entry2exit']-xcenter)/((xmax-xmin)/2)\n",
        "data5['ycof_entry2exit']=1-abs(data5['est_y_entry2exit']-ycenter)/((ymax-ymin)/2)"
      ],
      "execution_count": 0,
      "outputs": []
    },
    {
      "cell_type": "code",
      "metadata": {
        "id": "ulJIYLiDFkGd",
        "colab_type": "code",
        "colab": {}
      },
      "source": [
        "#est_x代表用不同速度从pre到end的预计位置\n",
        "data5['est_x_exit2pre']=data5['time_pre2end']*data5['vx_exit2pre']+data5['prex']\n",
        "data5['est_y_exit2pre']=data5['time_pre2end']*data5['vy_exit2pre']+data5['prey']\n",
        "#xcof位置系数，预计位置距离center越近，可能性越高\n",
        "data5['xcof_exit2pre']=1-abs(data5['est_x_exit2pre']-xcenter)/((xmax-xmin)/2)\n",
        "data5['ycof_exit2pre']=1-abs(data5['est_y_exit2pre']-ycenter)/((ymax-ymin)/2)"
      ],
      "execution_count": 0,
      "outputs": []
    },
    {
      "cell_type": "code",
      "metadata": {
        "id": "3dPO2PTVFkGi",
        "colab_type": "code",
        "colab": {}
      },
      "source": [
        "#est_x代表用不同速度从pre到end的预计位置\n",
        "data5['est_x_entry2pre']=data5['time_pre2end']*data5['vx_entry2pre']+data5['prex']\n",
        "data5['est_y_entry2pre']=data5['time_pre2end']*data5['vy_entry2pre']+data5['prey']\n",
        "#xcof位置系数，预计位置距离center越近，可能性越高\n",
        "data5['xcof_entry2pre']=1-abs(data5['est_x_entry2pre']-xcenter)/((xmax-xmin)/2)\n",
        "data5['ycof_entry2pre']=1-abs(data5['est_y_entry2pre']-ycenter)/((ymax-ymin)/2)"
      ],
      "execution_count": 0,
      "outputs": []
    },
    {
      "cell_type": "code",
      "metadata": {
        "id": "YgnozoXmFkGm",
        "colab_type": "code",
        "colab": {}
      },
      "source": [
        "#f5将设备最后起点的id提出\n",
        "def f5(df):\n",
        "    return df.iloc[-1,1]\n",
        "#f1y将设备最后起点y坐标提出\n",
        "data_id=data.groupby('hash').apply(f5).to_frame()\n",
        "data_id.columns=['hashid']\n",
        "data6=pd.merge(data5,data_id,on='hash')"
      ],
      "execution_count": 0,
      "outputs": []
    },
    {
      "cell_type": "code",
      "metadata": {
        "id": "PwrZqfQ9FkGo",
        "colab_type": "code",
        "colab": {}
      },
      "source": [
        "data7=data6.drop(['hash','trajectory_id'],axis=1)"
      ],
      "execution_count": 0,
      "outputs": []
    },
    {
      "cell_type": "code",
      "metadata": {
        "id": "V48OvvCOFkGr",
        "colab_type": "code",
        "outputId": "43a8252a-ab6e-4e88-c847-fcfddbbca40b",
        "colab": {}
      },
      "source": [
        "#注意有的数据只有一条，因此需要只用pre的情况来预测\n",
        "data_pre=data7[['hashid','time_pre2end','prex','prey','endx','endy','targetx','targety','target']]\n",
        "data_pre['target_prex']=data7['prex'].apply(f2x)\n",
        "data_pre['target_prey']=data7['prey'].apply(f2y)\n",
        "# data_pre.rename(columns={'trajectory_id':'hashid'},inplace=True)\n",
        "data_pre=data_pre[['hashid','time_pre2end','prex','prey','target_prex','target_prey','endx','endy','targetx','targety','target']]\n",
        "data_pre.drop_duplicates(inplace=True)\n",
        "data_pre.to_csv('E:/data/eydata/train_pre.csv')"
      ],
      "execution_count": 0,
      "outputs": [
        {
          "output_type": "stream",
          "text": [
            "D:\\Anaconda3\\lib\\site-packages\\ipykernel_launcher.py:3: SettingWithCopyWarning: \n",
            "A value is trying to be set on a copy of a slice from a DataFrame.\n",
            "Try using .loc[row_indexer,col_indexer] = value instead\n",
            "\n",
            "See the caveats in the documentation: http://pandas.pydata.org/pandas-docs/stable/indexing.html#indexing-view-versus-copy\n",
            "  This is separate from the ipykernel package so we can avoid doing imports until\n",
            "D:\\Anaconda3\\lib\\site-packages\\ipykernel_launcher.py:4: SettingWithCopyWarning: \n",
            "A value is trying to be set on a copy of a slice from a DataFrame.\n",
            "Try using .loc[row_indexer,col_indexer] = value instead\n",
            "\n",
            "See the caveats in the documentation: http://pandas.pydata.org/pandas-docs/stable/indexing.html#indexing-view-versus-copy\n",
            "  after removing the cwd from sys.path.\n"
          ],
          "name": "stderr"
        }
      ]
    },
    {
      "cell_type": "code",
      "metadata": {
        "id": "SLvNMuL1FkGy",
        "colab_type": "code",
        "colab": {}
      },
      "source": [
        "l8=['hashid',\n",
        " 'counts',\n",
        " 'est_x_entry2exit',\n",
        " 'est_x_entry2pre',\n",
        " 'est_x_exit2pre',\n",
        " 'est_y_entry2exit',\n",
        " 'est_y_entry2pre',\n",
        " 'est_y_exit2pre',\n",
        " 't1',\n",
        " 't2',\n",
        " 'time_entry2exit',\n",
        " 'time_entry2pre',\n",
        " 'time_exit2end',\n",
        " 'time_exit2pre',\n",
        " 'vx_entry2exit',\n",
        " 'vx_entry2pre',\n",
        " 'vx_exit2pre',\n",
        " 'vy_entry2exit',\n",
        " 'vy_entry2pre',\n",
        " 'vy_exit2pre',\n",
        " 'x_entry',\n",
        " 'x_exit',\n",
        " 'xcof_entry2exit',\n",
        " 'xcof_entry2pre',\n",
        " 'xcof_exit2pre',\n",
        " 'y_entry',\n",
        " 'y_exit',\n",
        " 'ycof_entry2exit',\n",
        " 'ycof_entry2pre',\n",
        " 'ycof_exit2pre']"
      ],
      "execution_count": 0,
      "outputs": []
    },
    {
      "cell_type": "code",
      "metadata": {
        "id": "l5m6ISbbFkG2",
        "colab_type": "code",
        "colab": {}
      },
      "source": [
        "data8=data7[l8]\n",
        "data8.to_csv('E:/data/eydata/train.csv')"
      ],
      "execution_count": 0,
      "outputs": []
    }
  ]
}