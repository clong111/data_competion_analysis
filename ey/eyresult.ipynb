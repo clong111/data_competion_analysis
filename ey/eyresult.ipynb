{
  "nbformat": 4,
  "nbformat_minor": 0,
  "metadata": {
    "colab": {
      "name": "final_1trace.ipynb",
      "version": "0.3.2",
      "provenance": []
    },
    "kernelspec": {
      "name": "python3",
      "display_name": "Python 3"
    },
    "accelerator": "GPU"
  },
  "cells": [
    {
      "cell_type": "code",
      "metadata": {
        "id": "VDXKdXpGmw91",
        "colab_type": "code",
        "colab": {}
      },
      "source": [
        "import numpy as np\n",
        "import pandas as pd\n",
        "import matplotlib.pyplot as plt\n",
        "from xgboost import plot_importance"
      ],
      "execution_count": 0,
      "outputs": []
    },
    {
      "cell_type": "code",
      "metadata": {
        "id": "wuVFMpMNnQWQ",
        "colab_type": "code",
        "colab": {}
      },
      "source": [
        "# 读取仅有一条记录的数据集\n",
        "train=pd.read_csv('train_1trace.csv')"
      ],
      "execution_count": 0,
      "outputs": []
    },
    {
      "cell_type": "code",
      "metadata": {
        "id": "ExMNtB-yIxnu",
        "colab_type": "code",
        "colab": {}
      },
      "source": [
        "#边界，中心\n",
        "num=(1e-5)\n",
        "xmin=3750901.5068*num\n",
        "xmax=3770901.5068*num\n",
        "ymin=-19268905.6133*num\n",
        "ymax=-19208905.6133*num\n",
        "xcenter=(xmin+xmax)/2\n",
        "ycenter=(ymin+ymax)/2"
      ],
      "execution_count": 0,
      "outputs": []
    },
    {
      "cell_type": "code",
      "metadata": {
        "id": "jlAINS-dJPZv",
        "colab_type": "code",
        "colab": {}
      },
      "source": [
        "# 与其他py文件格式统一 \n",
        "data=train"
      ],
      "execution_count": 0,
      "outputs": []
    },
    {
      "cell_type": "code",
      "metadata": {
        "id": "d4hoqDAtyUYe",
        "colab_type": "code",
        "outputId": "04656306-1d4b-403b-8a59-8239617c6a95",
        "colab": {
          "base_uri": "https://localhost:8080/",
          "height": 34
        }
      },
      "source": [
        "# k是需要额外采样的位于市区的记录数\n",
        "k=len(data)-len(dy)*5"
      ],
      "execution_count": 0,
      "outputs": [
        {
          "output_type": "execute_result",
          "data": {
            "text/plain": [
              "145"
            ]
          },
          "metadata": {
            "tags": []
          },
          "execution_count": 14
        }
      ]
    },
    {
      "cell_type": "code",
      "metadata": {
        "id": "MSz-6Tmim8py",
        "colab_type": "code",
        "colab": {}
      },
      "source": [
        "#过采样\n",
        "dy=data[data['target']==1]\n",
        "dy1=data[data['target']==1]\n",
        "dy2=data[data['target']==1]\n",
        "dy3=data[data['target']==1]\n",
        "dy4=dy1.sample(n=k,axis=0)\n",
        "dn=data[data['target']!=1]\n",
        "# dn=dn.iloc[:dy.shape[0],:]\n",
        "dyn=pd.concat([dy,dn,dy1,dy2,dy3,dy4],axis=0)\n",
        "\n",
        "#训练数据\n",
        "dyn_data=dyn.drop(['Unnamed: 0','hashid','endx','endy','targetx','targety','target'],axis=1).values\n",
        "\n",
        "#各种目标\n",
        "dyn_endx=dyn['endx'].values\n",
        "dyn_endy=dyn['endy'].values\n",
        "dyn_targetx=dyn['targetx'].values\n",
        "dyn_targety=dyn['targety'].values\n",
        "dyn_target=dyn['target'].values"
      ],
      "execution_count": 0,
      "outputs": []
    },
    {
      "cell_type": "code",
      "metadata": {
        "id": "Fa_ge5o-nYCQ",
        "colab_type": "code",
        "outputId": "e545358f-d7b1-4e71-8946-3c0ab8df2c4c",
        "colab": {
          "base_uri": "https://localhost:8080/",
          "height": 88
        }
      },
      "source": [
        "#xgboost 最佳参数\n",
        "import xgboost as xgb\n",
        "ps={}\n",
        "ps['gamma']=[0.05,0.1,0.5]\n",
        "ps['max_depth']=[10,15,20]\n",
        "ps['learning_rate']=[0.05,0.1,0.3]\n",
        "ps['objective']=['binary:logistic']\n",
        "ps['min_child_weight']=[0.5,1,5]\n",
        "plst = list(ps.items())\n",
        "num_rounds = 2000\n",
        "\n",
        "#筛选最佳超参数\n",
        "from sklearn.model_selection import GridSearchCV\n",
        "xgbrg=xgb.XGBClassifier()\n",
        "m_rx=GridSearchCV(xgbrg,ps)\n",
        "#由于数据过多，gridsearch吃不消，选取部分数据来检查最佳参数\n",
        "# gindex=np.random.randint(len(dyn),size=4000)\n",
        "sample=dyn_data\n",
        "sample_targetx=dyn_target\n",
        "m_rx.fit(sample,sample_targetx)\n",
        "print('rx_best_params: ',m_rx.best_params_)\n"
      ],
      "execution_count": 0,
      "outputs": [
        {
          "output_type": "stream",
          "text": [
            "/usr/local/lib/python3.6/dist-packages/sklearn/model_selection/_split.py:2053: FutureWarning: You should specify a value for 'cv' instead of relying on the default value. The default value will change from 3 to 5 in version 0.22.\n",
            "  warnings.warn(CV_WARNING, FutureWarning)\n"
          ],
          "name": "stderr"
        },
        {
          "output_type": "stream",
          "text": [
            "rx_best_params:  {'gamma': 0.05, 'learning_rate': 0.3, 'max_depth': 10, 'min_child_weight': 0.5, 'objective': 'binary:logistic'}\n"
          ],
          "name": "stdout"
        }
      ]
    },
    {
      "cell_type": "code",
      "metadata": {
        "id": "99dAZKxHnz6T",
        "colab_type": "code",
        "colab": {}
      },
      "source": [
        "#回归训练集，测试集划分\n",
        "from sklearn.model_selection import train_test_split\n",
        "train_rx,test_rx,train_targetx,test_targetx=train_test_split(dyn_data,dyn_target,test_size=0.3)"
      ],
      "execution_count": 0,
      "outputs": []
    },
    {
      "cell_type": "code",
      "metadata": {
        "id": "bq_sPKfFoH-u",
        "colab_type": "code",
        "outputId": "71ceaba8-ca29-4901-f0dd-e2a023de3869",
        "colab": {
          "base_uri": "https://localhost:8080/",
          "height": 51
        }
      },
      "source": [
        "#用xgboost最优参数预测在训练集上分割得到的数据集的分数\n",
        "import xgboost as xgb\n",
        "xgb_rx=xgb.XGBClassifier(gamma=0.05,learning_rate=0.05,max_depth= 15,\n",
        "                        min_child_weight= 0.5,objective= 'binary:logistic')\n",
        "xgb_rx.fit(train_rx,train_targetx)\n",
        "predict_rx=xgb_rx.predict(test_rx)\n",
        "\n",
        "from sklearn.metrics import precision_score,roc_auc_score\n",
        "\n",
        "auc_score = roc_auc_score(test_targetx,predict_rx)\n",
        "pre_score = precision_score(test_targetx,predict_rx)\n",
        "\n",
        "print(\"xgb_auc_score:\",auc_score)\n",
        "print(\"xgb_pre_score:\",pre_score)"
      ],
      "execution_count": 0,
      "outputs": [
        {
          "output_type": "stream",
          "text": [
            "xgb_auc_score: 0.9689738073804233\n",
            "xgb_pre_score: 0.954612397911367\n"
          ],
          "name": "stdout"
        }
      ]
    },
    {
      "cell_type": "code",
      "metadata": {
        "id": "6kkoRhx0277F",
        "colab_type": "code",
        "colab": {}
      },
      "source": [
        "# 读取test中仅有一条记录的数据集\n",
        "test=pd.read_csv('test_1trace.csv')\n",
        "test1=test.drop(['Unnamed: 0','hashid'],axis=1)\n",
        "test_data=test1.values"
      ],
      "execution_count": 0,
      "outputs": []
    },
    {
      "cell_type": "code",
      "metadata": {
        "id": "llaKb5-Z3f5u",
        "colab_type": "code",
        "colab": {}
      },
      "source": [
        "# 对test_1trace进行训练\n",
        "import xgboost as xgb\n",
        "xgb_rx=xgb.XGBClassifier(gamma=0.05,learning_rate=0.1,max_depth= 15,\n",
        "                        min_child_weight= 1,objective= 'binary:logistic')\n",
        "\n",
        "xgb_rx.fit(dyn_data,dyn_target)\n",
        "p_rx=xgb_rx.predict(test_data)\n",
        "test['target']=p_rx\n",
        "result=test[['hashid','target']]"
      ],
      "execution_count": 0,
      "outputs": []
    },
    {
      "cell_type": "code",
      "metadata": {
        "id": "kD2qoueX5okh",
        "colab_type": "code",
        "colab": {}
      },
      "source": [
        "# 与之前得到的大数据集合并，得到最终预测结果\n",
        "test_oversample=pd.read_csv('t5_os_estim.csv')\n",
        "test_oversample.drop('Unnamed: 0',axis=1,inplace=True)\n",
        "result1=result.rename(columns={'hashid':'id'})\n",
        "\n",
        "test_oversample.iloc[(len(test_oversample)-len(test)):,1]=result1['target'].values\n",
        "\n",
        "test_oversample.to_csv('t5_1trace_estim.csv')"
      ],
      "execution_count": 0,
      "outputs": []
    }
  ]
}