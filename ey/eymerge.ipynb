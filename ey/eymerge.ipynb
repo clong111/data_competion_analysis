{
  "nbformat": 4,
  "nbformat_minor": 0,
  "metadata": {
    "colab": {
      "name": "eydata.ipynb",
      "version": "0.3.2",
      "provenance": []
    },
    "language_info": {
      "codemirror_mode": {
        "name": "ipython",
        "version": 3
      },
      "file_extension": ".py",
      "mimetype": "text/x-python",
      "name": "python",
      "nbconvert_exporter": "python",
      "pygments_lexer": "ipython3",
      "version": "3.6.5"
    },
    "kernelspec": {
      "display_name": "Python 3",
      "language": "python",
      "name": "python3"
    }
  },
  "cells": [
    {
      "cell_type": "code",
      "metadata": {
        "id": "Ln-KBFKOcGl2",
        "colab_type": "code",
        "colab": {}
      },
      "source": [
        "import pandas as pd\n",
        "import numpy as np\n"
      ],
      "execution_count": 0,
      "outputs": []
    },
    {
      "cell_type": "code",
      "metadata": {
        "id": "NUc4jv2ZcGmG",
        "colab_type": "code",
        "colab": {}
      },
      "source": [
        "train=pd.read_csv('E://data//eydata//train.csv')\n",
        "train_pre=pd.read_csv('E://data//eydata//train_pre.csv')\n",
        "train_pre.drop('Unnamed: 0',axis=1,inplace=True)"
      ],
      "execution_count": 0,
      "outputs": []
    },
    {
      "cell_type": "code",
      "metadata": {
        "id": "wqivECZbcGmu",
        "colab_type": "code",
        "colab": {}
      },
      "source": [
        "train.drop(['Unnamed: 0','counts'],inplace=True,axis=1)"
      ],
      "execution_count": 0,
      "outputs": []
    },
    {
      "cell_type": "code",
      "metadata": {
        "id": "f5KZB20qcGnJ",
        "colab_type": "code",
        "colab": {}
      },
      "source": [
        "cl=train.columns.tolist()[1:]"
      ],
      "execution_count": 0,
      "outputs": []
    },
    {
      "cell_type": "code",
      "metadata": {
        "id": "WDrDiCsqcGnV",
        "colab_type": "code",
        "colab": {}
      },
      "source": [
        "#考虑的记录条数\n",
        "counts=5\n",
        "#cl的长度\n",
        "lencl=len(cl)\n",
        "#新表的列名l0\n",
        "idname='hashid'\n",
        "l0=[idname]\n",
        "for i in range(counts):\n",
        "    for c in cl:\n",
        "        l0.append(c+'_'+str(i))\n",
        "def f(df):\n",
        "    df1=pd.DataFrame(np.zeros(1+counts*lencl).reshape(1,-1))\n",
        "    df1.columns=l0\n",
        "    indexlist=df.index.tolist()\n",
        "    df1.loc[0,idname]=df.loc[indexlist[0],idname]\n",
        "\n",
        "    for i,idx in enumerate(indexlist[::-1]):\n",
        "        if i>=counts:\n",
        "            return df1\n",
        "        for name in cl:\n",
        "            df1.loc[0,name+'_'+str(i)]=df.loc[idx,name]\n",
        "    return df1\n",
        "\n",
        "train1=train.groupby(idname).apply(f)"
      ],
      "execution_count": 0,
      "outputs": []
    },
    {
      "cell_type": "code",
      "metadata": {
        "id": "zJfh5YJUcGnp",
        "colab_type": "code",
        "colab": {}
      },
      "source": [
        "train2=train1.reset_index(drop=True)"
      ],
      "execution_count": 0,
      "outputs": []
    },
    {
      "cell_type": "code",
      "metadata": {
        "id": "EN2PLsymcGn6",
        "colab_type": "code",
        "colab": {}
      },
      "source": [
        "train3=pd.merge(train2,train_pre,on='hashid')"
      ],
      "execution_count": 0,
      "outputs": []
    },
    {
      "cell_type": "code",
      "metadata": {
        "id": "YTrvSUkYcGoZ",
        "colab_type": "code",
        "colab": {}
      },
      "source": [
        "train3.to_csv('E:/data/eydata/train_count5.csv')"
      ],
      "execution_count": 0,
      "outputs": []
    },
    {
      "cell_type": "code",
      "metadata": {
        "id": "aLQGZqB_cGoi",
        "colab_type": "code",
        "colab": {}
      },
      "source": [
        "#处理测试集\n",
        "test=pd.read_csv('E://data//eydata//test.csv')\n",
        "test_pre=pd.read_csv('E://data//eydata//test_pre.csv')"
      ],
      "execution_count": 0,
      "outputs": []
    },
    {
      "cell_type": "code",
      "metadata": {
        "id": "8MnE98_WcGor",
        "colab_type": "code",
        "colab": {}
      },
      "source": [
        "test.drop(['Unnamed: 0','counts'],inplace=True,axis=1)"
      ],
      "execution_count": 0,
      "outputs": []
    },
    {
      "cell_type": "code",
      "metadata": {
        "id": "sniKA5bAcGpW",
        "colab_type": "code",
        "colab": {}
      },
      "source": [
        "#考虑的记录条数\n",
        "counts=5\n",
        "#cl1的长度\n",
        "lencl1=len(cl1)\n",
        "#新表的列名l1\n",
        "idname='hashid'\n",
        "l1=[idname]\n",
        "for i in range(counts):\n",
        "    for c in cl1:\n",
        "        l1.append(c+'_'+str(i))\n",
        "def f(df):\n",
        "    df1=pd.DataFrame(np.zeros(1+counts*lencl1).reshape(1,-1))\n",
        "    df1.columns=l1\n",
        "    indexlist=df.index.tolist()\n",
        "    df1.loc[0,idname]=df.loc[indexlist[0],idname]\n",
        "\n",
        "    for i,idx in enumerate(indexlist[::-1]):\n",
        "        if i>=counts:\n",
        "            return df1\n",
        "        for name in cl1:\n",
        "            df1.loc[0,name+'_'+str(i)]=df.loc[idx,name]\n",
        "    return df1\n",
        "\n",
        "test1=test.groupby(idname).apply(f)"
      ],
      "execution_count": 0,
      "outputs": []
    },
    {
      "cell_type": "code",
      "metadata": {
        "id": "toqgtcQYcGpt",
        "colab_type": "code",
        "colab": {}
      },
      "source": [
        "test2=test1.reset_index(drop=True)"
      ],
      "execution_count": 0,
      "outputs": []
    },
    {
      "cell_type": "code",
      "metadata": {
        "id": "Jjznq3MscGp4",
        "colab_type": "code",
        "colab": {}
      },
      "source": [
        "test3=pd.merge(test2,test_pre,on='hashid')"
      ],
      "execution_count": 0,
      "outputs": []
    },
    {
      "cell_type": "code",
      "metadata": {
        "id": "F5Wa4cbWcGqE",
        "colab_type": "code",
        "colab": {}
      },
      "source": [
        "test3.to_csv('test_count5.csv')"
      ],
      "execution_count": 0,
      "outputs": []
    }
  ]
}